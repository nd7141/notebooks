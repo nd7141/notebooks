{
 "cells": [
  {
   "cell_type": "code",
   "execution_count": 7,
   "metadata": {
    "colab": {},
    "colab_type": "code",
    "collapsed": true,
    "id": "1PXLiwv8raHf"
   },
   "outputs": [],
   "source": [
    "import openreview\n",
    "from collections import Counter, defaultdict as dd\n",
    "import numpy as np\n",
    "import pandas as pd\n",
    "import qgrid\n",
    "from pprint import pprint\n",
    "import re \n",
    "import time\n",
    "import jellyfish\n",
    "import seaborn as sns\n",
    "import matplotlib.pyplot as plt"
   ]
  },
  {
   "cell_type": "code",
   "execution_count": 8,
   "metadata": {
    "colab": {},
    "colab_type": "code",
    "collapsed": true,
    "id": "-JSePAblrjuf"
   },
   "outputs": [],
   "source": [
    "def all_papers():\n",
    "    client = openreview.Client(baseurl='https://openreview.net')\n",
    "    paper_iterator = openreview.tools.iterget_notes(client, invitation='ICLR.cc/2019/Conference/-/Blind_Submission')\n",
    "    return list(paper_iterator)"
   ]
  },
  {
   "cell_type": "code",
   "execution_count": 9,
   "metadata": {
    "colab": {},
    "colab_type": "code",
    "collapsed": true,
    "id": "S3G79njornm8"
   },
   "outputs": [],
   "source": [
    "def ratings_and_confidence():\n",
    "    client = openreview.Client(baseurl='https://openreview.net')\n",
    "    review_iterator = openreview.tools.iterget_notes(client, invitation='ICLR.cc/2019/Conference/-/Paper.*/Official_Review')\n",
    "    ratings = dd(list)\n",
    "    confidence = dd(list)\n",
    "    for review in review_iterator:\n",
    "        ratings[review.forum].append(int(re.findall(pattern='\\d+', string=review.content['rating'])[0]))\n",
    "        confidence[review.forum].append(int(re.findall(pattern='\\d+', string=review.content['confidence'])[0]))\n",
    "    return ratings, confidence"
   ]
  },
  {
   "cell_type": "code",
   "execution_count": 10,
   "metadata": {
    "colab": {},
    "colab_type": "code",
    "collapsed": true,
    "id": "TK0ewUADrpis"
   },
   "outputs": [],
   "source": [
    "papers = all_papers()\n",
    "ratings, confidence = ratings_and_confidence()"
   ]
  },
  {
   "cell_type": "code",
   "execution_count": 11,
   "metadata": {
    "colab": {},
    "colab_type": "code",
    "collapsed": true,
    "id": "uaiFec56rsHH"
   },
   "outputs": [],
   "source": [
    "def add_ratings(papers, ratings, confidence):\n",
    "    for ix in range(len(papers)):\n",
    "        forum = papers[ix].forum\n",
    "        papers[ix].ratings = ratings.get(forum, [])\n",
    "        papers[ix].confidence = confidence.get(forum, [])"
   ]
  },
  {
   "cell_type": "code",
   "execution_count": 12,
   "metadata": {
    "colab": {},
    "colab_type": "code",
    "collapsed": true,
    "id": "1ZWUzewrrvTJ"
   },
   "outputs": [],
   "source": [
    "add_ratings(papers, ratings, confidence)"
   ]
  },
  {
   "cell_type": "code",
   "execution_count": 13,
   "metadata": {
    "colab": {},
    "colab_type": "code",
    "collapsed": true,
    "id": "ZwWqJWdVKaii"
   },
   "outputs": [],
   "source": [
    "def get_keywords(papers):\n",
    "    return list(set([word.strip().lower() for p in papers for word in p.content['keywords']]))\n",
    "\n",
    "def get_similarity(keywords):\n",
    "    sim = dict()\n",
    "    N = len(keywords)\n",
    "    for i in range(N-1):\n",
    "        for j in range(i+1, N):\n",
    "            topic1 = keywords[i]\n",
    "            topic2 = keywords[j]\n",
    "            dist = len(set(topic1).intersection(set(topic2)))/len(set(max([topic1, topic2], key=lambda v: len(v))))\n",
    "            if topic1 != topic2 and dist > 0.75:\n",
    "                dist = jellyfish.levenshtein_distance(topic1, topic2)\n",
    "                sim[topic1, topic2] = dist\n",
    "    return sim\n",
    "\n",
    "def get_top_matches(sim):\n",
    "    matches = dd(list)\n",
    "    for pair in sim:\n",
    "        if sim[pair] == 1:\n",
    "            matches[pair[0]].append(pair[1])\n",
    "            matches[pair[1]].append(pair[0])\n",
    "    return matches    "
   ]
  },
  {
   "cell_type": "code",
   "execution_count": 14,
   "metadata": {
    "colab": {
     "base_uri": "https://localhost:8080/",
     "height": 34
    },
    "colab_type": "code",
    "id": "qdlZixd3Kaqx",
    "outputId": "70db47d3-a89e-4668-8745-9d49b3bf8450"
   },
   "outputs": [
    {
     "name": "stdout",
     "output_type": "stream",
     "text": [
      "Similarity computed in 121.27 sec\n"
     ]
    }
   ],
   "source": [
    "keywords = get_keywords(papers)\n",
    "start = time.time()\n",
    "sim = get_similarity(keywords) # this may take several minutes \n",
    "finish = time.time()\n",
    "print('Similarity computed in {:.2f} sec'.format(finish - start))"
   ]
  },
  {
   "cell_type": "code",
   "execution_count": 15,
   "metadata": {
    "colab": {},
    "colab_type": "code",
    "collapsed": true,
    "id": "d8x8UGVRKa6c"
   },
   "outputs": [],
   "source": [
    "matches = get_top_matches(sim)"
   ]
  },
  {
   "cell_type": "code",
   "execution_count": 16,
   "metadata": {
    "colab": {},
    "colab_type": "code",
    "collapsed": true,
    "id": "eaULJk2-MCAw"
   },
   "outputs": [],
   "source": [
    "def get_clusters(matches):\n",
    "    clusters = dict()\n",
    "    for topic in matches:\n",
    "        values = matches[topic]\n",
    "        clusters[topic] = topic\n",
    "        for v in values:\n",
    "            if len(matches.get(v, [])) > len(values) or \\\n",
    "            (len(matches.get(v, [])) == len(values) and topic > v):\n",
    "                clusters[topic] = v\n",
    "    return clusters"
   ]
  },
  {
   "cell_type": "code",
   "execution_count": 17,
   "metadata": {
    "colab": {},
    "colab_type": "code",
    "collapsed": true,
    "id": "zgzIsl-uMCI6"
   },
   "outputs": [],
   "source": [
    "clusters = get_clusters(matches)"
   ]
  },
  {
   "cell_type": "code",
   "execution_count": 18,
   "metadata": {
    "colab": {},
    "colab_type": "code",
    "collapsed": true,
    "id": "p9Df0v4Mr15H"
   },
   "outputs": [],
   "source": [
    "def get_df(papers, clusters):\n",
    "    rows = []\n",
    "    for paper in papers:\n",
    "        topic = paper.content['keywords'][0] if len(paper.content['keywords']) else ''\n",
    "        cluster = clusters.get(topic.lower(), topic.lower() if topic else None)\n",
    "        row = dict(tldr = paper.content.get('TL;DR', ''),\n",
    "                  ratings = getattr(paper, 'ratings', []),\n",
    "                  confidence = getattr(paper, 'confidence', []),\n",
    "                  title = paper.content['title'],\n",
    "                  avg_rating = np.mean(getattr(paper, 'ratings', [])),\n",
    "                  avg_confidence = np.mean(getattr(paper, 'confidence', [])),\n",
    "                  topic = cluster,\n",
    "                  url = \"https://openreview.net/forum?id=\" + paper.forum\n",
    "                  )\n",
    "        rows.append(row)\n",
    "    df = pd.DataFrame(rows)\n",
    "    df.index.name = 'Index'\n",
    "    df = df.iloc[:, [4,1,0,6,5,3,2,7]]\n",
    "    return df "
   ]
  },
  {
   "cell_type": "code",
   "execution_count": 19,
   "metadata": {
    "colab": {},
    "colab_type": "code",
    "collapsed": true,
    "id": "gUMHV47Br3tS"
   },
   "outputs": [],
   "source": [
    "df = get_df(papers, clusters)"
   ]
  },
  {
   "cell_type": "code",
   "execution_count": 109,
   "metadata": {},
   "outputs": [
    {
     "name": "stdout",
     "output_type": "stream",
     "text": [
      "Statistics for 2018-11-16\n",
      "Average rating: 5.1\n",
      "Average confidence: 3.8\n",
      "Total number of reviews: 4701\n",
      "Total number of papers: 1560\n",
      "Score 1 appeared in 18 reviews\n",
      "Score 2 appeared in 92 reviews\n",
      "Score 3 appeared in 458 reviews\n",
      "Score 4 appeared in 1094 reviews\n",
      "Score 5 appeared in 1220 reviews\n",
      "Score 6 appeared in 951 reviews\n",
      "Score 7 appeared in 611 reviews\n",
      "Score 8 appeared in 195 reviews\n",
      "Score 9 appeared in 55 reviews\n",
      "Score 10 appeared in 7 reviews\n"
     ]
    }
   ],
   "source": [
    "all_ratings = df['ratings'].agg(sum)\n",
    "all_confidence = df['confidence'].agg(sum)\n",
    "avg_rating = np.mean(all_ratings)\n",
    "avg_confidence = np.mean(all_confidence)\n",
    "import datetime\n",
    "print('Statistics for', datetime.datetime.now().date())\n",
    "print('Average rating: {:.1f}'.format(avg_rating))\n",
    "print('Average confidence: {:.1f}'.format(avg_confidence))\n",
    "print('Total number of reviews:', len(all_ratings))\n",
    "print('Total number of papers:', df.shape[0])\n",
    "c = sorted(Counter(all_ratings).items())\n",
    "for k, v in c:\n",
    "    print('Score {} appeared in {} reviews'.format(k, v))"
   ]
  },
  {
   "cell_type": "code",
   "execution_count": 87,
   "metadata": {},
   "outputs": [],
   "source": [
    "def get_heatmap(df):\n",
    "    all_ratings = df['ratings'].agg(sum)\n",
    "    all_confidence = df['confidence'].agg(sum)\n",
    "    N, M = len(set(all_confidence)), len(set(all_ratings))\n",
    "    heat = np.zeros((N, M))\n",
    "    c = Counter(zip(all_confidence, all_ratings))\n",
    "    for key in c:\n",
    "        row, col = key\n",
    "        heat[row-1, col-1] = c[key]\n",
    "    normalized_heat = heat/np.linalg.norm(heat, axis=0)\n",
    "    \n",
    "    ax = sns.heatmap(normalized_heat, xticklabels=list(range(1,11)), yticklabels=list(range(1,6)), linewidths=.5)\n",
    "    ax.set_title('Confidence in Reviews. \\nNormalized for each review.')\n",
    "    ax.set_xlabel('Review Score')\n",
    "    ax.set_ylabel('Confidence')\n",
    "    plt.show()"
   ]
  },
  {
   "cell_type": "code",
   "execution_count": 88,
   "metadata": {},
   "outputs": [
    {
     "data": {
      "image/png": "[encoded data removed]",
      "text/plain": [
       "<matplotlib.figure.Figure at 0x1b578b7cb38>"
      ]
     },
     "metadata": {},
     "output_type": "display_data"
    }
   ],
   "source": [
    "get_heatmap(df)"
   ]
  },
  {
   "cell_type": "code",
   "execution_count": 110,
   "metadata": {
    "colab": {},
    "colab_type": "code",
    "id": "1CRlavC3r-HD"
   },
   "outputs": [
    {
     "data": {
      "application/vnd.jupyter.widget-view+json": {
       "model_id": "4791b50d10c847cbbc786aaeafa3b6dd",
       "version_major": 2,
       "version_minor": 0
      },
      "text/plain": [
       "QgridWidget(grid_options={'fullWidthRows': True, 'syncColumnCellResize': True, 'forceFitColumns': False, 'defa…"
      ]
     },
     "metadata": {},
     "output_type": "display_data"
    }
   ],
   "source": [
    "col_defs = {\n",
    "    name: {\n",
    "        'width': 50\n",
    "    } for name in ['Index', 'confidence', 'ratings']\n",
    "}\n",
    "col_defs['title'] = {'width': 500}\n",
    "col_defs['avg_rating'] = {'width': 100}\n",
    "col_defs['tldr'] = {'width': 1000}\n",
    "col_defs['url'] = {'width': 300}\n",
    "col_defs['topic'] = {'width': 200}\n",
    "grid_options={'forceFitColumns': False, 'defaultColumnWidth': 100}\n",
    "qgrid.show_grid(df, column_definitions=col_defs, grid_options = grid_options, precision=1)"
   ]
  },
  {
   "cell_type": "code",
   "execution_count": null,
   "metadata": {
    "collapsed": true
   },
   "outputs": [],
   "source": []
  }
 ],
 "metadata": {
  "colab": {
   "name": "ICLR Reviews",
   "provenance": [],
   "version": "0.3.2"
  },
  "kernelspec": {
   "display_name": "Python 3",
   "language": "python",
   "name": "python3"
  },
  "language_info": {
   "codemirror_mode": {
    "name": "ipython",
    "version": 3
   },
   "file_extension": ".py",
   "mimetype": "text/x-python",
   "name": "python",
   "nbconvert_exporter": "python",
   "pygments_lexer": "ipython3",
   "version": "3.6.1"
  }
 },
 "nbformat": 4,
 "nbformat_minor": 1
}
