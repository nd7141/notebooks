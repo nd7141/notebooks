{
 "cells": [
  {
   "cell_type": "code",
   "execution_count": 1,
   "metadata": {
    "colab": {},
    "colab_type": "code",
    "collapsed": true,
    "id": "1PXLiwv8raHf"
   },
   "outputs": [],
   "source": [
    "import openreview\n",
    "from collections import Counter, defaultdict as dd\n",
    "import numpy as np\n",
    "import pandas as pd\n",
    "import qgrid\n",
    "from pprint import pprint\n",
    "import datetime\n",
    "import pickle\n",
    "import re \n",
    "import time\n",
    "import jellyfish\n",
    "import seaborn as sns\n",
    "import matplotlib.pyplot as plt"
   ]
  },
  {
   "cell_type": "code",
   "execution_count": 2,
   "metadata": {
    "colab": {},
    "colab_type": "code",
    "collapsed": true,
    "id": "-JSePAblrjuf"
   },
   "outputs": [],
   "source": [
    "def all_papers():\n",
    "    client = openreview.Client(baseurl='https://openreview.net')\n",
    "    paper_iterator = openreview.tools.iterget_notes(client, invitation='ICLR.cc/2019/Conference/-/Blind_Submission')\n",
    "    return list(paper_iterator)"
   ]
  },
  {
   "cell_type": "code",
   "execution_count": 3,
   "metadata": {
    "colab": {},
    "colab_type": "code",
    "collapsed": true,
    "id": "S3G79njornm8"
   },
   "outputs": [],
   "source": [
    "def ratings_and_confidence():\n",
    "    client = openreview.Client(baseurl='https://openreview.net')\n",
    "    review_iterator = openreview.tools.iterget_notes(client, invitation='ICLR.cc/2019/Conference/-/Paper.*/Official_Review')\n",
    "    ratings = dd(list)\n",
    "    confidence = dd(list)\n",
    "    for review in review_iterator:\n",
    "        ratings[review.forum].append(int(re.findall(pattern='\\d+', string=review.content['rating'])[0]))\n",
    "        confidence[review.forum].append(int(re.findall(pattern='\\d+', string=review.content['confidence'])[0]))\n",
    "    return ratings, confidence"
   ]
  },
  {
   "cell_type": "code",
   "execution_count": 4,
   "metadata": {
    "colab": {},
    "colab_type": "code",
    "collapsed": true,
    "id": "TK0ewUADrpis"
   },
   "outputs": [],
   "source": [
    "papers = all_papers()\n",
    "ratings, confidence = ratings_and_confidence()"
   ]
  },
  {
   "cell_type": "code",
   "execution_count": 5,
   "metadata": {
    "colab": {},
    "colab_type": "code",
    "collapsed": true,
    "id": "uaiFec56rsHH"
   },
   "outputs": [],
   "source": [
    "def add_ratings(papers, ratings, confidence):\n",
    "    for ix in range(len(papers)):\n",
    "        forum = papers[ix].forum\n",
    "        papers[ix].ratings = ratings.get(forum, [])\n",
    "        papers[ix].confidence = confidence.get(forum, [])"
   ]
  },
  {
   "cell_type": "code",
   "execution_count": 6,
   "metadata": {
    "colab": {},
    "colab_type": "code",
    "collapsed": true,
    "id": "1ZWUzewrrvTJ"
   },
   "outputs": [],
   "source": [
    "add_ratings(papers, ratings, confidence)"
   ]
  },
  {
   "cell_type": "code",
   "execution_count": 9,
   "metadata": {
    "colab": {},
    "colab_type": "code",
    "collapsed": true,
    "id": "ZwWqJWdVKaii"
   },
   "outputs": [],
   "source": [
    "def get_keywords(papers):\n",
    "    return list(set([word.strip().lower() for p in papers for word in p.content['keywords']]))\n",
    "\n",
    "def get_similarity(keywords):\n",
    "    sim = dict()\n",
    "    N = len(keywords)\n",
    "    for i in range(N-1):\n",
    "        for j in range(i+1, N):\n",
    "            topic1 = keywords[i]\n",
    "            topic2 = keywords[j]\n",
    "            dist = len(set(topic1).intersection(set(topic2)))/len(set(max([topic1, topic2], key=lambda v: len(v))))\n",
    "            if topic1 != topic2 and dist >= 0.70:\n",
    "                dist = jellyfish.levenshtein_distance(topic1, topic2)\n",
    "                sim[topic1, topic2] = dist\n",
    "    return sim\n",
    "\n",
    "def get_top_matches(sim):\n",
    "    matches = dd(list)\n",
    "    for pair in sim:\n",
    "        if sim[pair] == 1:\n",
    "            matches[pair[0]].append(pair[1])\n",
    "            matches[pair[1]].append(pair[0])\n",
    "    return matches    "
   ]
  },
  {
   "cell_type": "code",
   "execution_count": 10,
   "metadata": {
    "colab": {
     "base_uri": "https://localhost:8080/",
     "height": 34
    },
    "colab_type": "code",
    "id": "qdlZixd3Kaqx",
    "outputId": "70db47d3-a89e-4668-8745-9d49b3bf8450"
   },
   "outputs": [
    {
     "name": "stdout",
     "output_type": "stream",
     "text": [
      "Similarity computed in 215.15 sec\n"
     ]
    }
   ],
   "source": [
    "keywords = get_keywords(papers)\n",
    "start = time.time()\n",
    "sim = get_similarity(keywords) # this may take several minutes \n",
    "finish = time.time()\n",
    "print('Similarity computed in {:.2f} sec'.format(finish - start))"
   ]
  },
  {
   "cell_type": "code",
   "execution_count": 11,
   "metadata": {
    "colab": {},
    "colab_type": "code",
    "collapsed": true,
    "id": "d8x8UGVRKa6c"
   },
   "outputs": [],
   "source": [
    "matches = get_top_matches(sim)"
   ]
  },
  {
   "cell_type": "code",
   "execution_count": 12,
   "metadata": {
    "colab": {},
    "colab_type": "code",
    "collapsed": true,
    "id": "eaULJk2-MCAw"
   },
   "outputs": [],
   "source": [
    "def get_clusters(matches):\n",
    "    clusters = dict()\n",
    "    for topic in matches:\n",
    "        values = matches[topic]\n",
    "        clusters[topic] = topic\n",
    "        for v in values:\n",
    "            if len(matches.get(v, [])) > len(values) or \\\n",
    "            (len(matches.get(v, [])) == len(values) and topic > v):\n",
    "                clusters[topic] = v\n",
    "    return clusters"
   ]
  },
  {
   "cell_type": "code",
   "execution_count": 13,
   "metadata": {
    "colab": {},
    "colab_type": "code",
    "collapsed": true,
    "id": "zgzIsl-uMCI6"
   },
   "outputs": [],
   "source": [
    "clusters = get_clusters(matches)"
   ]
  },
  {
   "cell_type": "code",
   "execution_count": 14,
   "metadata": {
    "colab": {},
    "colab_type": "code",
    "collapsed": true,
    "id": "p9Df0v4Mr15H"
   },
   "outputs": [],
   "source": [
    "def get_df(papers, clusters):\n",
    "    rows = []\n",
    "    for paper in papers:\n",
    "        topic = paper.content['keywords'][0] if len(paper.content['keywords']) else ''\n",
    "        cluster = clusters.get(topic.lower(), topic.lower() if topic else None)\n",
    "        row = dict(tldr = paper.content.get('TL;DR', ''),\n",
    "                  ratings = getattr(paper, 'ratings', []),\n",
    "                  confidence = getattr(paper, 'confidence', []),\n",
    "                  title = paper.content['title'],\n",
    "                  avg_rating = np.mean(getattr(paper, 'ratings', [])),\n",
    "                  avg_confidence = np.mean(getattr(paper, 'confidence', [])),\n",
    "                  topic = cluster,\n",
    "                  url = \"https://openreview.net/forum?id=\" + paper.forum\n",
    "                  )\n",
    "        rows.append(row)\n",
    "    df = pd.DataFrame(rows)\n",
    "    df.index.name = 'Index'\n",
    "    df = df.iloc[:, [4,1,0,6,5,3,2,7]]\n",
    "    return df "
   ]
  },
  {
   "cell_type": "code",
   "execution_count": 15,
   "metadata": {
    "colab": {},
    "colab_type": "code",
    "collapsed": true,
    "id": "gUMHV47Br3tS"
   },
   "outputs": [],
   "source": [
    "df = get_df(papers, clusters)"
   ]
  },
  {
   "cell_type": "code",
   "execution_count": 32,
   "metadata": {},
   "outputs": [
    {
     "name": "stdout",
     "output_type": "stream",
     "text": [
      "Statistics for 2018-11-19\n",
      "Average rating: 5.2\n",
      "Average confidence: 3.8\n",
      "Total number of reviews: 4576\n",
      "Total number of papers: 1512\n"
     ]
    }
   ],
   "source": [
    "all_ratings = df['ratings'].agg(sum)\n",
    "all_confidence = df['confidence'].agg(sum)\n",
    "avg_rating = np.mean(all_ratings)\n",
    "avg_confidence = np.mean(all_confidence)\n",
    "import datetime\n",
    "print('Statistics for', datetime.datetime.now().date())\n",
    "print('Average rating: {:.1f}'.format(avg_rating))\n",
    "print('Average confidence: {:.1f}'.format(avg_confidence))\n",
    "print('Total number of reviews:', len(all_ratings))\n",
    "print('Total number of papers:', df.shape[0])"
   ]
  },
  {
   "cell_type": "code",
   "execution_count": 33,
   "metadata": {},
   "outputs": [
    {
     "name": "stderr",
     "output_type": "stream",
     "text": [
      "C:\\Program Files\\Anaconda3\\lib\\site-packages\\seaborn\\categorical.py:1428: FutureWarning: remove_na is deprecated and is a private function. Do not use.\n",
      "  stat_data = remove_na(group_data)\n"
     ]
    },
    {
     "data": {
      "image/png": "[encoded data removed]",
      "text/plain": [
       "<matplotlib.figure.Figure at 0x1c34a4080b8>"
      ]
     },
     "metadata": {},
     "output_type": "display_data"
    }
   ],
   "source": [
    "c = sorted(Counter(all_ratings).items())\n",
    "freq = pd.DataFrame(c, columns = ['score', 'number'])\n",
    "bars = sns.barplot(x='score', y='number', data=freq)\n",
    "bars.set_title('Frequency of Review Score')\n",
    "bars.set_ylabel('number of scores')\n",
    "# xlabels = bars.set_xticklabels(bars.get_xticklabels(), rotation=90)\n",
    "plt.show()"
   ]
  },
  {
   "cell_type": "code",
   "execution_count": 17,
   "metadata": {
    "collapsed": true
   },
   "outputs": [],
   "source": [
    "sns.set(rc={'figure.figsize':(20,8.27)}, font_scale=2)\n",
    "def plot_heatmap(df):\n",
    "    all_ratings = df['ratings'].agg(sum)\n",
    "    all_confidence = df['confidence'].agg(sum)\n",
    "    N, M = len(set(all_confidence)), len(set(all_ratings))\n",
    "    heat = np.zeros((N, M))\n",
    "    c = Counter(zip(all_confidence, all_ratings))\n",
    "    for key in c:\n",
    "        row, col = key\n",
    "        heat[row-1, col-1] = c[key]\n",
    "    normalized_heat = heat/np.linalg.norm(heat, axis=0)\n",
    "    \n",
    "    ax = sns.heatmap(normalized_heat, xticklabels=list(range(1,11)), yticklabels=list(range(1,6)), linewidths=.5)\n",
    "    ax.set_title('Confidence in Reviews. \\nNormalized for each review score.')\n",
    "    ax.set_xlabel('Review Score')\n",
    "    ax.set_ylabel('Confidence')\n",
    "    plt.show()\n",
    "    \n",
    "def plot_frequencies(df):\n",
    "    topics = Counter(df.topic).most_common(50)\n",
    "    topics = list(filter(lambda v: v[0], topics))\n",
    "    freq = pd.DataFrame(topics, columns = ['topic', 'occurences'])\n",
    "    bars = sns.barplot(x='topic', y='occurences', data=freq)\n",
    "    bars.set_title('Frequency of Popular Topics.')\n",
    "    xlabels = bars.set_xticklabels(bars.get_xticklabels(), rotation=90)\n",
    "    plt.show()"
   ]
  },
  {
   "cell_type": "code",
   "execution_count": 18,
   "metadata": {},
   "outputs": [
    {
     "data": {
      "image/png": "[encoded data removed]",
      "text/plain": [
       "<matplotlib.figure.Figure at 0x1c3442f1d30>"
      ]
     },
     "metadata": {},
     "output_type": "display_data"
    }
   ],
   "source": [
    "plot_heatmap(df)"
   ]
  },
  {
   "cell_type": "code",
   "execution_count": 19,
   "metadata": {},
   "outputs": [
    {
     "name": "stderr",
     "output_type": "stream",
     "text": [
      "C:\\Program Files\\Anaconda3\\lib\\site-packages\\seaborn\\categorical.py:1428: FutureWarning: remove_na is deprecated and is a private function. Do not use.\n",
      "  stat_data = remove_na(group_data)\n"
     ]
    },
    {
     "data": {
      "image/png": "[encoded data removed]",
      "text/plain": [
       "<matplotlib.figure.Figure at 0x1c348166ef0>"
      ]
     },
     "metadata": {},
     "output_type": "display_data"
    }
   ],
   "source": [
    "plot_frequencies(df)"
   ]
  },
  {
   "cell_type": "code",
   "execution_count": 40,
   "metadata": {
    "colab": {},
    "colab_type": "code",
    "id": "1CRlavC3r-HD"
   },
   "outputs": [],
   "source": [
    "col_defs = {\n",
    "    name: {\n",
    "        'width': 50\n",
    "    } for name in ['Index', 'confidence', 'ratings']\n",
    "}\n",
    "col_defs['title'] = {'width': 500}\n",
    "col_defs['avg_rating'] = {'width': 100}\n",
    "col_defs['tldr'] = {'width': 1000}\n",
    "col_defs['url'] = {'width': 300}\n",
    "col_defs['topic'] = {'width': 200}\n",
    "grid_options={'forceFitColumns': False, 'defaultColumnWidth': 100}\n",
    "grid = qgrid.show_grid(df, column_definitions=col_defs, grid_options = grid_options, precision=1)"
   ]
  },
  {
   "cell_type": "code",
   "execution_count": 117,
   "metadata": {},
   "outputs": [
    {
     "data": {
      "application/vnd.jupyter.widget-view+json": {
       "model_id": "d7acc22484e14b7ba1e46ca265b28554",
       "version_major": 2,
       "version_minor": 0
      },
      "text/plain": [
       "QgridWidget(grid_options={'fullWidthRows': True, 'syncColumnCellResize': True, 'forceFitColumns': False, 'defa…"
      ]
     },
     "metadata": {},
     "output_type": "display_data"
    }
   ],
   "source": [
    "grid"
   ]
  },
  {
   "cell_type": "code",
   "execution_count": 47,
   "metadata": {
    "collapsed": true
   },
   "outputs": [],
   "source": [
    "q = grid.get_changed_df()"
   ]
  },
  {
   "cell_type": "code",
   "execution_count": 48,
   "metadata": {},
   "outputs": [
    {
     "data": {
      "text/plain": [
       "(748, 8)"
      ]
     },
     "execution_count": 48,
     "metadata": {},
     "output_type": "execute_result"
    }
   ],
   "source": [
    "q.shape"
   ]
  },
  {
   "cell_type": "code",
   "execution_count": 193,
   "metadata": {
    "collapsed": true
   },
   "outputs": [],
   "source": [
    "abstracts = [paper.content['abstract'] for paper in papers]\n",
    "titles = [paper.content['title'] for paper in papers]"
   ]
  },
  {
   "cell_type": "code",
   "execution_count": 254,
   "metadata": {},
   "outputs": [],
   "source": [
    "from gensim.models.doc2vec import Doc2Vec, TaggedDocument\n",
    "\n",
    "documents = [TaggedDocument(doc, [i]) for i, doc in enumerate(abstracts)]\n",
    "model = Doc2Vec(documents, vector_size=5, window=2, min_count=1, workers=4, epochs = 10)"
   ]
  },
  {
   "cell_type": "code",
   "execution_count": 255,
   "metadata": {},
   "outputs": [
    {
     "name": "stderr",
     "output_type": "stream",
     "text": [
      "C:\\Program Files\\Anaconda3\\lib\\site-packages\\gensim\\matutils.py:737: FutureWarning: Conversion of the second argument of issubdtype from `int` to `np.signedinteger` is deprecated. In future, it will be treated as `np.int32 == np.dtype(int).type`.\n",
      "  if np.issubdtype(vec.dtype, np.int):\n"
     ]
    },
    {
     "data": {
      "text/plain": [
       "[(1117, 0.9929732084274292),\n",
       " (1096, 0.9913002252578735),\n",
       " (40, 0.9902840852737427),\n",
       " (523, 0.9878532886505127),\n",
       " (296, 0.986305832862854),\n",
       " (433, 0.9819512367248535),\n",
       " (120, 0.9739929437637329),\n",
       " (1496, 0.9737836718559265),\n",
       " (415, 0.9711160659790039),\n",
       " (621, 0.9690467715263367)]"
      ]
     },
     "execution_count": 255,
     "metadata": {},
     "output_type": "execute_result"
    }
   ],
   "source": [
    "vecs = []\n",
    "model.docvecs.most_similar(0)"
   ]
  },
  {
   "cell_type": "code",
   "execution_count": 203,
   "metadata": {},
   "outputs": [],
   "source": [
    "def recommend_papers(query, titles, abstracts, docvecs):\n",
    "    ix = titles.index(query)\n",
    "    matches = docvecs.most_similar(ix)\n",
    "    recommendations = [(titles[m[0]], abstracts[m[0]], m[1]) for m in matches]\n",
    "    sims = pd.DataFrame(recommendations, columns=['Title', 'Abstract', 'Similarity'])\n",
    "    col_defs = {\n",
    "        name: {\n",
    "            'width': 50\n",
    "        } for name in ['Index', 'confidence', 'ratings']\n",
    "    }\n",
    "    col_defs['Title'] = {'width': 500}\n",
    "    col_defs['Abstract'] = {'width': 500}\n",
    "    col_defs['Similarity'] = {'width': 100}\n",
    "    grid_options={'forceFitColumns': False, 'defaultColumnWidth': 100}\n",
    "    grid = qgrid.show_grid(sims, column_definitions=col_defs, grid_options = grid_options, precision=3)\n",
    "    return grid\n",
    "    "
   ]
  },
  {
   "cell_type": "code",
   "execution_count": 259,
   "metadata": {},
   "outputs": [
    {
     "data": {
      "text/plain": [
       "dict_keys(['title', 'avg_rating', 'avg_confidence', 'topic', 'tldr', 'ratings', 'confidence', 'url'])"
      ]
     },
     "execution_count": 259,
     "metadata": {},
     "output_type": "execute_result"
    }
   ],
   "source": [
    "df_dict.keys()"
   ]
  },
  {
   "cell_type": "code",
   "execution_count": 260,
   "metadata": {},
   "outputs": [
    {
     "name": "stderr",
     "output_type": "stream",
     "text": [
      "C:\\Program Files\\Anaconda3\\lib\\site-packages\\gensim\\matutils.py:737: FutureWarning: Conversion of the second argument of issubdtype from `int` to `np.signedinteger` is deprecated. In future, it will be treated as `np.int32 == np.dtype(int).type`.\n",
      "  if np.issubdtype(vec.dtype, np.int):\n"
     ]
    }
   ],
   "source": [
    "title_d = dict()\n",
    "for ix in range(df.shape[0]):\n",
    "    title_d[df.iloc[ix, 0]] = {''}\n",
    "\n",
    "# for ix, title in enumerate(titles):\n",
    "#     row = df[df['title'] == title]\n",
    "#     print(row.iloc[0, 1])\n",
    "df_dict = df.to_dict()\n",
    "df_dict['rev_title'] = {v: k for (k, v) in df_dict['title'].items()}\n",
    "model.docvecs.most_similar(0)\n",
    "rows = []\n",
    "for title in df_dict['rev_title']:\n",
    "    ix = df_dict['rev_title'][title]\n",
    "    recs = model.docvecs.most_similar(ix)\n",
    "    original_topic = df_dict['topic'][ix]\n",
    "    for rec_paper in recs:\n",
    "        j = rec_paper[0]\n",
    "        rec_title = df_dict['title'][j]\n",
    "        rec_avg_rating = df_dict['avg_rating'][j]\n",
    "        rec_topic = df_dict['topic'][j]\n",
    "        rec_tldr = df_dict['tldr'][j]\n",
    "        rec_url = df_dict['url'][j]\n",
    "        rows.append([title, original_topic, rec_title, rec_avg_rating, rec_topic, rec_tldr, rec_url])"
   ]
  },
  {
   "cell_type": "code",
   "execution_count": 269,
   "metadata": {},
   "outputs": [],
   "source": [
    "df_rec = pd.DataFrame(rows, columns=['title', 'original_topic', 'rec_title', 'rec_avg_rating', 'rec_topic', 'rec_tldr', 'rec_url'])\n",
    "df_rec = df_rec.set_index('title')"
   ]
  },
  {
   "cell_type": "code",
   "execution_count": 270,
   "metadata": {},
   "outputs": [
    {
     "data": {
      "application/vnd.jupyter.widget-view+json": {
       "model_id": "6968888d05554278901dc8a8c883213a",
       "version_major": 2,
       "version_minor": 0
      },
      "text/plain": [
       "QgridWidget(grid_options={'fullWidthRows': True, 'syncColumnCellResize': True, 'forceFitColumns': False, 'defa…"
      ]
     },
     "metadata": {},
     "output_type": "display_data"
    }
   ],
   "source": [
    "qgrid.show_grid(df_rec, column_definitions=col_defs, grid_options = grid_options, precision=3)"
   ]
  },
  {
   "cell_type": "code",
   "execution_count": null,
   "metadata": {
    "collapsed": true
   },
   "outputs": [],
   "source": [
    "def get_fields(title, papers):\n",
    "    for p in papers:\n",
    "        if p.content['title'] == title:\n",
    "            return p.content.get('tl;dr', ''), p.rating "
   ]
  },
  {
   "cell_type": "code",
   "execution_count": 204,
   "metadata": {},
   "outputs": [
    {
     "name": "stderr",
     "output_type": "stream",
     "text": [
      "C:\\Program Files\\Anaconda3\\lib\\site-packages\\gensim\\matutils.py:737: FutureWarning: Conversion of the second argument of issubdtype from `int` to `np.signedinteger` is deprecated. In future, it will be treated as `np.int32 == np.dtype(int).type`.\n",
      "  if np.issubdtype(vec.dtype, np.int):\n"
     ]
    },
    {
     "data": {
      "application/vnd.jupyter.widget-view+json": {
       "model_id": "a82f93ff91f14526a111c09b7f6a5cbe",
       "version_major": 2,
       "version_minor": 0
      },
      "text/plain": [
       "QgridWidget(grid_options={'fullWidthRows': True, 'syncColumnCellResize': True, 'forceFitColumns': False, 'defa…"
      ]
     },
     "metadata": {},
     "output_type": "display_data"
    }
   ],
   "source": [
    "query = titles[0]\n",
    "recommend_papers(query, titles, abstracts, model.docvecs)"
   ]
  },
  {
   "cell_type": "code",
   "execution_count": 233,
   "metadata": {},
   "outputs": [],
   "source": [
    "df_rec = df.copy()"
   ]
  },
  {
   "cell_type": "code",
   "execution_count": 237,
   "metadata": {},
   "outputs": [
    {
     "data": {
      "text/html": [
       "<div>\n",
       "<style scoped>\n",
       "    .dataframe tbody tr th:only-of-type {\n",
       "        vertical-align: middle;\n",
       "    }\n",
       "\n",
       "    .dataframe tbody tr th {\n",
       "        vertical-align: top;\n",
       "    }\n",
       "\n",
       "    .dataframe thead th {\n",
       "        text-align: right;\n",
       "    }\n",
       "</style>\n",
       "<table border=\"1\" class=\"dataframe\">\n",
       "  <thead>\n",
       "    <tr style=\"text-align: right;\">\n",
       "      <th></th>\n",
       "      <th>title</th>\n",
       "      <th>avg_rating</th>\n",
       "      <th>avg_confidence</th>\n",
       "      <th>topic</th>\n",
       "      <th>tldr</th>\n",
       "      <th>ratings</th>\n",
       "      <th>confidence</th>\n",
       "      <th>url</th>\n",
       "    </tr>\n",
       "    <tr>\n",
       "      <th>Index</th>\n",
       "      <th></th>\n",
       "      <th></th>\n",
       "      <th></th>\n",
       "      <th></th>\n",
       "      <th></th>\n",
       "      <th></th>\n",
       "      <th></th>\n",
       "      <th></th>\n",
       "    </tr>\n",
       "  </thead>\n",
       "  <tbody>\n",
       "    <tr>\n",
       "      <th>0</th>\n",
       "      <td>Adversarial Vulnerability of Neural Networks I...</td>\n",
       "      <td>5.750000</td>\n",
       "      <td>4.500000</td>\n",
       "      <td>adversarial vulnerability</td>\n",
       "      <td>Neural nets have large gradients by design; th...</td>\n",
       "      <td>[5, 4, 9, 5]</td>\n",
       "      <td>[4, 5, 4, 5]</td>\n",
       "      <td>https://openreview.net/forum?id=H1MzKs05F7</td>\n",
       "    </tr>\n",
       "    <tr>\n",
       "      <th>1</th>\n",
       "      <td>Pixel Chem: A Representation for Predicting Ma...</td>\n",
       "      <td>2.333333</td>\n",
       "      <td>4.333333</td>\n",
       "      <td>material property prediction</td>\n",
       "      <td>Proposed a unified, physics based representati...</td>\n",
       "      <td>[3, 1, 3]</td>\n",
       "      <td>[3, 5, 5]</td>\n",
       "      <td>https://openreview.net/forum?id=SkxYOiCqKX</td>\n",
       "    </tr>\n",
       "    <tr>\n",
       "      <th>2</th>\n",
       "      <td>On-Policy Trust Region Policy Optimisation wit...</td>\n",
       "      <td>5.000000</td>\n",
       "      <td>4.000000</td>\n",
       "      <td>reinforcement learning</td>\n",
       "      <td>We investigate the theoretical and practical e...</td>\n",
       "      <td>[4, 6, 5]</td>\n",
       "      <td>[5, 3, 4]</td>\n",
       "      <td>https://openreview.net/forum?id=B1MB5oRqtQ</td>\n",
       "    </tr>\n",
       "    <tr>\n",
       "      <th>3</th>\n",
       "      <td>Deterministic Variational Inference for Robust...</td>\n",
       "      <td>6.666667</td>\n",
       "      <td>3.666667</td>\n",
       "      <td>bayesian neural network</td>\n",
       "      <td>A method for eliminating gradient variance and...</td>\n",
       "      <td>[6, 7, 7]</td>\n",
       "      <td>[3, 3, 5]</td>\n",
       "      <td>https://openreview.net/forum?id=B1l08oAct7</td>\n",
       "    </tr>\n",
       "    <tr>\n",
       "      <th>4</th>\n",
       "      <td>What a difference a pixel makes: An empirical ...</td>\n",
       "      <td>4.666667</td>\n",
       "      <td>4.333333</td>\n",
       "      <td>deep learning</td>\n",
       "      <td>This study highlights a key difference between...</td>\n",
       "      <td>[4, 3, 7]</td>\n",
       "      <td>[4, 4, 5]</td>\n",
       "      <td>https://openreview.net/forum?id=ByePUo05K7</td>\n",
       "    </tr>\n",
       "  </tbody>\n",
       "</table>\n",
       "</div>"
      ],
      "text/plain": [
       "                                                   title  avg_rating  \\\n",
       "Index                                                                  \n",
       "0      Adversarial Vulnerability of Neural Networks I...    5.750000   \n",
       "1      Pixel Chem: A Representation for Predicting Ma...    2.333333   \n",
       "2      On-Policy Trust Region Policy Optimisation wit...    5.000000   \n",
       "3      Deterministic Variational Inference for Robust...    6.666667   \n",
       "4      What a difference a pixel makes: An empirical ...    4.666667   \n",
       "\n",
       "       avg_confidence                         topic  \\\n",
       "Index                                                 \n",
       "0            4.500000     adversarial vulnerability   \n",
       "1            4.333333  material property prediction   \n",
       "2            4.000000        reinforcement learning   \n",
       "3            3.666667       bayesian neural network   \n",
       "4            4.333333                 deep learning   \n",
       "\n",
       "                                                    tldr       ratings  \\\n",
       "Index                                                                    \n",
       "0      Neural nets have large gradients by design; th...  [5, 4, 9, 5]   \n",
       "1      Proposed a unified, physics based representati...     [3, 1, 3]   \n",
       "2      We investigate the theoretical and practical e...     [4, 6, 5]   \n",
       "3      A method for eliminating gradient variance and...     [6, 7, 7]   \n",
       "4      This study highlights a key difference between...     [4, 3, 7]   \n",
       "\n",
       "         confidence                                         url  \n",
       "Index                                                            \n",
       "0      [4, 5, 4, 5]  https://openreview.net/forum?id=H1MzKs05F7  \n",
       "1         [3, 5, 5]  https://openreview.net/forum?id=SkxYOiCqKX  \n",
       "2         [5, 3, 4]  https://openreview.net/forum?id=B1MB5oRqtQ  \n",
       "3         [3, 3, 5]  https://openreview.net/forum?id=B1l08oAct7  \n",
       "4         [4, 4, 5]  https://openreview.net/forum?id=ByePUo05K7  "
      ]
     },
     "execution_count": 237,
     "metadata": {},
     "output_type": "execute_result"
    }
   ],
   "source": [
    "df_rec.head()"
   ]
  },
  {
   "cell_type": "code",
   "execution_count": 219,
   "metadata": {
    "collapsed": true
   },
   "outputs": [],
   "source": [
    "def f(x):\n",
    "    \n",
    "    return recommend_papers(x, titles, abstracts, model.docvecs)"
   ]
  },
  {
   "cell_type": "code",
   "execution_count": 220,
   "metadata": {},
   "outputs": [
    {
     "data": {
      "application/vnd.jupyter.widget-view+json": {
       "model_id": "7fd8f7cd5dec4fe3ba2870ef627900f7",
       "version_major": 2,
       "version_minor": 0
      },
      "text/plain": [
       "interactive(children=(Dropdown(description='x', options=('Adversarial Vulnerability of Neural Networks Increas…"
      ]
     },
     "metadata": {},
     "output_type": "display_data"
    }
   ],
   "source": [
    "from ipywidgets import interact, Dropdown\n",
    "widget  = interact(f, x=titles)"
   ]
  },
  {
   "cell_type": "code",
   "execution_count": 114,
   "metadata": {},
   "outputs": [
    {
     "data": {
      "text/html": [
       "<div>\n",
       "<style scoped>\n",
       "    .dataframe tbody tr th:only-of-type {\n",
       "        vertical-align: middle;\n",
       "    }\n",
       "\n",
       "    .dataframe tbody tr th {\n",
       "        vertical-align: top;\n",
       "    }\n",
       "\n",
       "    .dataframe thead th {\n",
       "        text-align: right;\n",
       "    }\n",
       "</style>\n",
       "<table border=\"1\" class=\"dataframe\">\n",
       "  <thead>\n",
       "    <tr style=\"text-align: right;\">\n",
       "      <th></th>\n",
       "      <th>projections</th>\n",
       "      <th>count</th>\n",
       "      <th>precision@0.9</th>\n",
       "    </tr>\n",
       "  </thead>\n",
       "  <tbody>\n",
       "    <tr>\n",
       "      <th>0</th>\n",
       "      <td>partnerId=12695</td>\n",
       "      <td>11395</td>\n",
       "      <td>0.120387</td>\n",
       "    </tr>\n",
       "    <tr>\n",
       "      <th>1</th>\n",
       "      <td>partnerId=17830</td>\n",
       "      <td>24258</td>\n",
       "      <td>0.048228</td>\n",
       "    </tr>\n",
       "    <tr>\n",
       "      <th>2</th>\n",
       "      <td>partnerId=21631</td>\n",
       "      <td>413</td>\n",
       "      <td>0.119048</td>\n",
       "    </tr>\n",
       "    <tr>\n",
       "      <th>3</th>\n",
       "      <td>partnerId=22597</td>\n",
       "      <td>2997</td>\n",
       "      <td>0.130000</td>\n",
       "    </tr>\n",
       "    <tr>\n",
       "      <th>4</th>\n",
       "      <td>partnerId=23082</td>\n",
       "      <td>5011</td>\n",
       "      <td>0.077465</td>\n",
       "    </tr>\n",
       "  </tbody>\n",
       "</table>\n",
       "</div>"
      ],
      "text/plain": [
       "       projections  count  precision@0.9\n",
       "0  partnerId=12695  11395       0.120387\n",
       "1  partnerId=17830  24258       0.048228\n",
       "2  partnerId=21631    413       0.119048\n",
       "3  partnerId=22597   2997       0.130000\n",
       "4  partnerId=23082   5011       0.077465"
      ]
     },
     "execution_count": 114,
     "metadata": {},
     "output_type": "execute_result"
    }
   ],
   "source": [
    "part = pd.read_csv('part_prec.csv')\n",
    "\n",
    "part['precision@0.9'].mean()\n",
    "part.head()"
   ]
  },
  {
   "cell_type": "code",
   "execution_count": 77,
   "metadata": {},
   "outputs": [
    {
     "data": {
      "text/plain": [
       "0.27094311506488555"
      ]
     },
     "execution_count": 77,
     "metadata": {},
     "output_type": "execute_result"
    }
   ],
   "source": [
    "part = pd.read_csv('part.csv')\n",
    "\n",
    "part['AUC_100'].mean()"
   ]
  },
  {
   "cell_type": "code",
   "execution_count": 115,
   "metadata": {},
   "outputs": [
    {
     "name": "stdout",
     "output_type": "stream",
     "text": [
      "16349 0.2133062468257999\n",
      "34129 0.2694276407631456\n",
      "20413 0.2585818090704084\n",
      "21921 0.061488673139158574\n",
      "22351 0.12897196261682242\n",
      "25972 0.33544851456590713\n",
      "13803 0.10772913816689468\n",
      "42392 0.1250256200040992\n",
      "18415 0.1044776119402985\n",
      "35547 0.03674540682414698\n",
      "37833 0.1353220925205361\n",
      "18639 0.14786418400876233\n",
      "2217 0.2485000967679505\n",
      "38744 0.08333333333333333\n",
      "32982 0.05681818181818181\n",
      "39184 0.2144\n",
      "3616 0.26502145922746784\n",
      "15438 0.0934313725490196\n",
      "21493 0.10462446703837323\n",
      "13089 0.1243354991139988\n",
      "37375 0.1518761983018351\n",
      "11279 0.14394408335912515\n",
      "2992 0.1951079959948505\n",
      "9032 0.12401801111324008\n",
      "7575 0.2781433440636243\n",
      "5183 0.1076923076923077\n",
      "7410 0.12658900314954655\n",
      "31469 0.157450370724707\n",
      "25953 0.09544111377368754\n",
      "39404 0.060869565217391314\n",
      "5814 0.22058823529411764\n",
      "22707 0.1891891891891892\n",
      "22709 0.0958302852962692\n",
      "22708 0.11220196353436183\n",
      "11953 0.12420281218698888\n",
      "42556 0.11262798634812285\n",
      "40320 0.20710059171597636\n",
      "11251 0.17948917614078805\n",
      "11788 0.05844155844155844\n",
      "45264 0.11881606765327694\n",
      "18573 0.16205910390848427\n",
      "25090 0.066281441196465\n",
      "34182 0.26502027276078144\n",
      "32468 0.05988023952095808\n",
      "44995 0.18269230769230768\n",
      "26596 0.04187643020594966\n",
      "23248 0.0896551724137931\n",
      "10954 0.07586206896551724\n",
      "10963 0.1643059490084986\n",
      "8594 0.134185303514377\n",
      "17768 0.12668872346291699\n",
      "19430 0.06363636363636363\n",
      "16098 0.14090741423828845\n",
      "20011 0.09154929577464788\n",
      "44220 0.10526315789473684\n",
      "42415 0.1429495472186287\n",
      "28808 0.21212121212121213\n",
      "18686 0.1547699214365881\n",
      "38779 0.09061812362472496\n",
      "23561 0.04665260938323669\n",
      "31905 0.2222222222222222\n",
      "39392 0.1231696813092162\n",
      "39845 0.07336956521739131\n",
      "40431 0.05676855895196506\n",
      "44593 0.06566820276497695\n",
      "1749 0.14401118533478327\n",
      "15366 0.24175019611261225\n",
      "34177 0.21895495495495496\n",
      "45263 0.15081013710012464\n",
      "3461 0.12905764312413928\n",
      "18351 0.08949416342412451\n",
      "9065 0.13302360354587206\n",
      "25678 0.09301972685887708\n",
      "25635 0.21932556277248866\n",
      "42939 0.7647058823529411\n",
      "6356 0.10669077757685352\n",
      "39100 0.11550632911392406\n",
      "21496 0.08281629349878608\n",
      "20880 0.15384615384615385\n",
      "37769 0.15065359477124182\n",
      "8738 0.25037208769820823\n",
      "8738 0.25037208769820823\n",
      "25984 0.07886435331230282\n",
      "5747 0.09043141592920352\n",
      "13011 0.19189784236019372\n",
      "45029 0.18716577540106952\n",
      "16246 0.16911764705882354\n",
      "6350 0.10977148464881537\n",
      "47699 0.06921944035346098\n",
      "22099 0.0\n",
      "34931 0.07304347826086957\n",
      "39470 0.06264682850430697\n",
      "37498 0.16700551844321812\n",
      "30860 0.09295199182839632\n",
      "35473 0.09532374100719423\n",
      "37498 0.16700551844321812\n",
      "27262 0.14648362604494208\n",
      "19287 0.11984021304926765\n",
      "2625 0.226229116469862\n",
      "45696 0.12431676623871868\n",
      "19621 0.07482993197278913\n",
      "46426 0.06168831168831169\n",
      "17614 0.2251498413444588\n",
      "30437 0.21724890829694324\n",
      "21841 0.2301286903860712\n",
      "10261 0.11149825783972124\n",
      "38973 0.07563025210084033\n",
      "3053 0.09375\n",
      "26121 0.17142857142857146\n",
      "47857 0.0997067448680352\n",
      "48026 0.0621301775147929\n",
      "25211 0.2650433452320245\n",
      "32930 0.09536082474226804\n",
      "33931 0.11029411764705882\n",
      "34298 0.3333333333333333\n",
      "46571 0.4103852596314908\n",
      "12055 0.21218846811855552\n",
      "16807 0.3219436432216552\n",
      "47694 0.11313868613138685\n",
      "10317 0.06945337620578779\n",
      "31559 0.18846062899030505\n",
      "9752 0.1162862430598396\n",
      "1383 0.13276231263383298\n",
      "34496 0.12121212121212123\n",
      "22114 0.14714514407684098\n",
      "31042 0.07922168172341904\n",
      "42659 0.19014084507042253\n",
      "47544 0.053691275167785234\n",
      "24994 0.20483980913428765\n",
      "40191 0.0952157598499062\n",
      "21279 0.10166799046862587\n",
      "11228 0.15073272854152128\n",
      "49112 0.3573487031700288\n",
      "44790 0.14914772727272727\n",
      "22658 0.1230964467005076\n",
      "44264 0.07692307692307693\n",
      "21170 0.11706517139229793\n",
      "31829 0.06355382619974059\n",
      "4764 0.2303302460473384\n",
      "10767 0.11704455922262105\n",
      "15516 0.11121335611936374\n",
      "5048 0.1339603333170898\n",
      "35261 0.03460289809169372\n",
      "5165 0.08548168249660787\n",
      "31408 0.10480349344978164\n",
      "35855 0.1511879049676026\n",
      "24634 0.1164021164021164\n",
      "30408 0.11728680379015485\n",
      "32489 0.0632279534109817\n",
      "48779 0.16666666666666666\n",
      "42170 0.11409395973154365\n",
      "26387 0.3177083333333333\n",
      "22799 0.08795002465888542\n",
      "13320 0.0967741935483871\n",
      "25633 0.1221572449642625\n",
      "9730 0.23180703188879806\n",
      "9732 0.17627856365614802\n",
      "9731 0.07287933094384708\n",
      "30023 0.19534412955465588\n",
      "31407 0.06635071090047394\n",
      "36635 0.19528395881766852\n",
      "40558 0.04879801932752975\n",
      "49095 0.1337579617834395\n",
      "47732 0.1217391304347826\n",
      "33396 0.032773780975219824\n",
      "31512 0.07338597306084534\n",
      "21345 0.13325991189427314\n",
      "33921 0.125\n",
      "21343 0.16367842683632158\n",
      "16349 0.2133062468257999\n",
      "16345 0.2077766516170644\n",
      "36928 0.1675531914893617\n",
      "24185 0.08487084870848709\n",
      "48202 0.041971886755098005\n",
      "36661 0.1407766990291262\n",
      "22490 0.0911804143777845\n",
      "45180 0.07834101382488479\n",
      "7526 0.0945945945945946\n",
      "5535 0.2920264158700792\n",
      "3613 0.18183908045977007\n",
      "25643 0.149587178241865\n",
      "25641 0.18029739776951675\n",
      "26516 0.12909174734900875\n",
      "25637 0.21045515998197387\n",
      "25639 0.2166637615478473\n",
      "50915 0.0959079283887468\n",
      "36951 0.3321554770318021\n",
      "37237 0.10116731517509728\n",
      "37230 0.08761329305135952\n",
      "37231 0.13963963963963966\n",
      "23242 0.10159010600706714\n",
      "37232 0.2465753424657534\n",
      "37233 0.1111111111111111\n",
      "41256 0.25100401606425704\n",
      "37234 0.2058823529411765\n",
      "37235 0.0932642487046632\n",
      "37229 0.14893617021276595\n",
      "37236 0.011976047904191616\n",
      "42292 0.16611842105263158\n",
      "42294 nan\n",
      "14424 0.1452393760086068\n",
      "45183 0.04336734693877551\n",
      "5825 0.13501144164759726\n",
      "47918 0.02601775329048056\n",
      "22418 0.2785792941264301\n",
      "40217 0.11283185840707965\n",
      "50598 0.2612488521579431\n",
      "50600 0.3081967213114754\n",
      "50627 0.14954682779456194\n",
      "47075 0.07112970711297073\n",
      "41131 0.17821158690176322\n",
      "39359 0.12488203837684808\n",
      "35093 0.14855072463768115\n",
      "36307 0.09701492537313433\n",
      "36447 0.3636363636363637\n",
      "35880 0.2222222222222222\n",
      "9729 0.13894649523019495\n",
      "9733 0.1387373343725643\n",
      "14705 0.2046979865771812\n",
      "9728 0.13485113835376533\n",
      "12890 0.1095132743362832\n",
      "10492 0.1206896551724138\n",
      "19410 0.07439824945295405\n",
      "12891 0.0784313725490196\n",
      "10494 0.09611451942740286\n",
      "10493 0.054054054054054064\n",
      "12892 0.13517665130568354\n",
      "10497 0.13755458515283842\n",
      "15856 0.07614978637848706\n",
      "27191 0.3554033485540335\n",
      "44900 0.15756630265210608\n",
      "49928 0.0657439446366782\n",
      "9086 0.10262101035721836\n",
      "18643 0.18446212475763854\n",
      "52123 0.21044045676998369\n",
      "48792 0.10927152317880796\n",
      "48549 0.11\n",
      "8399 0.06570955273329653\n",
      "51057 0.10855263157894736\n",
      "49880 0.09589581689029204\n",
      "50818 0.4668587896253602\n",
      "50860 0.2335726118166759\n",
      "38409 0.14112903225806453\n",
      "51328 0.3580954009232347\n",
      "6890 0.08453922315308454\n",
      "40282 0.161604799400075\n",
      "51337 0.17959183673469387\n",
      "51254 0.05813953488372092\n",
      "15883 0.206027397260274\n",
      "15040 0.20095503382411464\n",
      "51686 0.1473941368078176\n",
      "43731 0.14912280701754385\n",
      "45305 0.1702127659574468\n",
      "50782 0.03847167325428195\n",
      "50310 0.08795962509012256\n",
      "49615 0.11385199240986715\n",
      "39847 0.08982035928143713\n",
      "1822 0.09036658141517476\n",
      "13929 0.2945544554455445\n",
      "34370 0.08454099429965117\n",
      "46850 0.1186685962373372\n",
      "45793 0.3055555555555556\n",
      "9616 0.12640929279125385\n",
      "51837 0.2857142857142857\n",
      "51794 0.16608996539792387\n",
      "47156 0.10483870967741936\n",
      "43691 0.13364779874213836\n",
      "24015 0.12507936507936507\n",
      "13172 0.11707317073170732\n",
      "52876 0.1782178217821782\n",
      "22298 0.042328042328042326\n",
      "15021 0.039781591263650544\n",
      "36926 0.047619047619047616\n",
      "38157 0.13228699551569506\n",
      "38077 0.1467065868263473\n",
      "38074 0.1323251417769376\n",
      "51624 0.19506726457399104\n",
      "51813 0.11733510109380177\n",
      "51957 0.09250585480093676\n",
      "48644 0.5861513687600645\n",
      "40310 0.11274509803921567\n",
      "17995 0.1619047619047619\n",
      "17996 0.07317073170731707\n",
      "35593 0.272264631043257\n",
      "36632 0.1661039837947333\n",
      "33268 0.10922509225092253\n",
      "19335 0.096584440227704\n",
      "33597 0.0\n",
      "38461 0.07377979568671962\n",
      "39843 0.0796\n",
      "42813 0.08942121708079155\n",
      "32157 0.05778894472361809\n",
      "23217 0.15436241610738255\n",
      "48256 0.09033511413307432\n",
      "20694 0.08043197936814958\n",
      "12980 0.07474962504233393\n",
      "43734 0.2206405693950178\n",
      "26419 0.1088495575221239\n",
      "49983 0.1327683615819209\n",
      "42628 0.14130434782608695\n",
      "19103 0.2036743744060817\n",
      "52985 0.379948586118252\n",
      "33966 0.1411764705882353\n",
      "50623 0.12029384756657485\n",
      "50202 0.1598317560462671\n",
      "52194 0.15789473684210525\n",
      "10280 0.07440811724915446\n",
      "48755 0.055762081784386616\n",
      "11454 0.14258389845244304\n",
      "47071 0.08766839378238342\n",
      "48199 0.06519208381839348\n",
      "52094 0.15118196811434853\n",
      "15356 0.10025380710659898\n",
      "37028 0.08174386920980926\n",
      "48046 0.14501755333513364\n",
      "43658 0.09812568908489526\n",
      "52102 0.09433962264150944\n",
      "52162 0.09406952965235174\n",
      "6459 0.2119632443894681\n",
      "6459 0.2119632443894681\n",
      "53087 0.19055745164960186\n",
      "53667 0.09574468085106384\n",
      "8414 0.16672377167134927\n",
      "1547 0.16637899709302326\n",
      "49350 0.05820433436532507\n",
      "34643 0.09691629955947137\n",
      "4838 0.19047619047619047\n",
      "27146 0.03672408189795255\n",
      "38734 0.1946082561078349\n",
      "52858 0.0900735294117647\n",
      "11279 0.14394408335912515\n",
      "11279 0.14394408335912515\n",
      "38779 0.09061812362472496\n",
      "50788 0.12799452429842573\n",
      "11672 0.15599422243620606\n",
      "36832 0.08001306335728282\n",
      "45600 0.07577807848443842\n",
      "50034 0.10043668122270742\n",
      "27853 0.10196078431372547\n",
      "12410 0.05586493726208938\n",
      "12410 0.05586493726208938\n",
      "50277 0.07044025157232704\n",
      "32049 0.1091703056768559\n",
      "38735 0.17633042096902304\n",
      "41909 0.24489795918367346\n",
      "49988 0.08110936682365254\n",
      "35914 0.13705583756345174\n",
      "52802 0.10483870967741936\n",
      "32274 0.20763187429854096\n",
      "46428 0.18213058419243985\n",
      "39675 0.07738095238095237\n",
      "39676 0.13333333333333333\n",
      "23463 0.16735028712059066\n",
      "36383 0.043129848917925685\n",
      "36170 0.14227115716753022\n",
      "23428 0.1139240506329114\n",
      "52855 0.10403726708074534\n",
      "12683 0.09649749821300928\n",
      "6832 0.19231522271169849\n",
      "18291 0.18473282442748093\n",
      "5051 0.14913107907853967\n",
      "45940 0.14439024390243899\n",
      "50316 0.13571961222967935\n",
      "2246 0.0967741935483871\n",
      "52129 0.14363277393879564\n",
      "50318 0.11206896551724138\n",
      "52546 0.0962230215827338\n",
      "40072 0.0759493670886076\n",
      "22206 0.18847209515096067\n",
      "36409 0.24846715328467156\n",
      "36409 0.24846715328467156\n",
      "15952 0.32598520308017515\n",
      "4268 0.1593770400074606\n",
      "4268 0.1593770400074606\n",
      "23162 0.07292732855680653\n",
      "17614 0.2251498413444588\n",
      "17614 0.2251498413444588\n",
      "33701 0.07302533532041729\n",
      "4268 0.1593770400074606\n",
      "40380 0.0947095049201166\n",
      "38726 0.0484818805093046\n",
      "46229 0.14102564102564102\n",
      "23192 0.08747044917257682\n",
      "18928 0.10625\n",
      "18929 0.13064516129032258\n",
      "31948 0.06965174129353234\n",
      "42583 0.0862533692722372\n",
      "23976 0.3271276595744681\n",
      "23976 0.3271276595744681\n",
      "1893 0.15771502399409376\n",
      "51536 0.0706090026478376\n",
      "32612 0.1058201058201058\n",
      "53479 0.0755813953488372\n",
      "16345 0.2077766516170644\n",
      "13383 0.17653234857535932\n",
      "37973 0.1408624229979466\n",
      "37973 0.1408624229979466\n",
      "35706 0.10312285518188058\n",
      "42420 0.10365853658536583\n",
      "6133 0.08894401133947555\n",
      "53590 0.08443908323281063\n",
      "24831 0.14949651432997674\n",
      "53399 0.06565656565656566\n",
      "47748 0.1125\n",
      "23506 0.12413793103448276\n",
      "34963 0.0872865275142315\n",
      "36120 0.13823529411764707\n",
      "3518 0.18002614647150805\n",
      "3518 0.18002614647150805\n",
      "48955 0.16393442622950818\n",
      "44176 0.08974358974358974\n",
      "44178 0.08695652173913042\n",
      "44111 0.1091314031180401\n",
      "5914 0.09019799560009778\n",
      "51393 0.07052896725440806\n",
      "42889 0.07221812822402357\n",
      "33769 0.14450354609929078\n",
      "16349 0.2133062468257999\n",
      "16345 0.2077766516170644\n",
      "51619 0.1791530944625407\n",
      "32628 0.09523809523809523\n",
      "46658 0.12857142857142856\n",
      "8416 0.1963149996426955\n",
      "8416 0.1963149996426955\n",
      "16561 0.10275229357798166\n",
      "11642 0.09205675343537036\n",
      "45289 0.10112359550561796\n",
      "23453 0.037383177570093455\n",
      "29138 0.11126564673157163\n",
      "15178 0.10886214442013127\n",
      "6062 0.2223926380368098\n",
      "11379 0.16939890710382513\n",
      "40072 0.0759493670886076\n"
     ]
    }
   ],
   "source": [
    "# for puid \n",
    "camps = pd.read_csv('prospecting_campaigns', header=None, sep=';')\n",
    "samples = []\n",
    "for pin in camps[0]:\n",
    "    try:\n",
    "        q = part[part['projections'] == 'partnerId={}'.format(pin)]\n",
    "        if q.shape[0] > 0:\n",
    "            print(pin, float(q['precision@0.9']))\n",
    "            samples.append(float(q['precision@0.9']))\n",
    "    except:\n",
    "        pass"
   ]
  },
  {
   "cell_type": "code",
   "execution_count": 116,
   "metadata": {},
   "outputs": [
    {
     "data": {
      "text/plain": [
       "0    0.141421\n",
       "dtype: float64"
      ]
     },
     "execution_count": 116,
     "metadata": {},
     "output_type": "execute_result"
    }
   ],
   "source": [
    "pd.DataFrame(samples).mean()"
   ]
  },
  {
   "cell_type": "code",
   "execution_count": 70,
   "metadata": {},
   "outputs": [
    {
     "name": "stdout",
     "output_type": "stream",
     "text": [
      "{(0, 1, 2, 1, 2, 1), (0, 1, 0, 1, 2, 1), (0, 1, 0, 1, 0, 1), (0, 1, 2, 1, 0, 1)}\n",
      "{(0, 1, 0, 2, 0, 2), (0, 1, 0, 2, 0, 1), (0, 1, 0, 1, 0, 1), (0, 1, 0, 1, 0, 2)}\n"
     ]
    }
   ],
   "source": [
    "import networkx as nx\n",
    "\n",
    "G = nx.Graph()\n",
    "G.add_edges_from([('A', 'B'), ('B', 'C')])\n",
    "\n",
    "\n",
    "def random_walk_node_step(G, walks):\n",
    "    new_walks = []\n",
    "    for walk in walks:\n",
    "        end = walk[-1]\n",
    "        for v in G[end]:\n",
    "            new_walks.append(walk + [v])\n",
    "    return new_walks\n",
    "\n",
    "def all_random_walks(G, node, steps):\n",
    "    walks = []\n",
    "#     for node in G:\n",
    "#         walks.append([node])\n",
    "    walks = [[node]]\n",
    "    for _ in range(steps):\n",
    "        new_walks = random_walk_node_step(G, walks)\n",
    "        walks = new_walks\n",
    "    return walks\n",
    "\n",
    "\n",
    "def walk2pattern(walk):\n",
    "    idx = 0\n",
    "    pattern = []\n",
    "    d = dict()\n",
    "    for node in walk:\n",
    "        if node not in d:\n",
    "            d[node] = idx\n",
    "            idx += 1\n",
    "        pattern.append(d[node])\n",
    "    return tuple(pattern)\n",
    "\n",
    "def all_anonymous_walks(walks):\n",
    "    return set([walk2pattern(walk) for walk in walks])\n",
    "    \n",
    "steps = 5\n",
    "walksA = all_random_walks(G, 'A', steps)\n",
    "walksB = all_random_walks(G, 'B', steps)\n",
    "print(all_anonymous_walks(walksA))\n",
    "print(all_anonymous_walks(walksB))"
   ]
  },
  {
   "cell_type": "code",
   "execution_count": 39,
   "metadata": {},
   "outputs": [
    {
     "name": "stdout",
     "output_type": "stream",
     "text": [
      "ResourceWithFile:511;additionalfeatures:101194;baba.initial_seed_on_prod_dataid:7129;baba.learning.spark.driver.memory:24g;baba.learning.spark.executor.heartbeatInterval:60s;baba.learning.spark.scheduler.maxRegisteredResourcesWaitingTime:1800s;baba.learning.spark.scheduler.minRegisteredResourcesRatio:0.2;baba.learning.spark_submit.executor-cores:12;baba.learning.spark_submit.executor-memory:16g;baba.learning.spark_submit.num-executors:40;baba.optimization.epochs:50;baba.optimization.hashbits:26;baba.optimization.lbfgs_stopping_criteria.relative_decrease:true;baba.optimization.sgd_epochs:0;baba.preprocessing.spark.executor.heartbeatInterval:60s;baba.preprocessing.spark_submit.executor-memory:16g;bits:26;continuousfeatures:101194;crossfeatures:1&100072&100139\n",
      "1&100072&100140\n",
      "1&100082&100108\n",
      "1&100108\n",
      "1&100121&100139\n",
      "1&100121&100140\n",
      "1&100128\n",
      "1&100132\n",
      "1&100133&31\n",
      "1&100138\n",
      "1&100145\n",
      "1&100146\n",
      "1&100156\n",
      "1&100164\n",
      "1&100165&31\n",
      "1&100780\n",
      "1&100783\n",
      "1&100928\n",
      "1&100929\n",
      "1&100930\n",
      "1&100931\n",
      "1&100932\n",
      "1&100933\n",
      "1&100934\n",
      "1&100935\n",
      "1&100936\n",
      "1&100937\n",
      "1&100938\n",
      "1&100939\n",
      "1&100975\n",
      "1&101131\n",
      "1&101399\n",
      "1&17\n",
      "1&2\n",
      "1&23\n",
      "1&295\n",
      "1&31\n",
      "1&34\n",
      "1&415\n",
      "1&417\n",
      "1&418\n",
      "1&491\n",
      "1&523\n",
      "1&86\n",
      "100030&100146\n",
      "100030&100156\n",
      "100030&101185\n",
      "100068&100145\n",
      "100068&100155\n",
      "100068&100156\n",
      "100068&100733\n",
      "100068&100975\n",
      "100070&100132\n",
      "100070&100147\n",
      "100070&100164\n",
      "100070&100737\n",
      "100070&2\n",
      "100070&23\n",
      "100071&100084\n",
      "100071&100164\n",
      "100071&100730\n",
      "100072&100132\n",
      "100072&100145\n",
      "100072&100164\n",
      "100072&100738\n",
      "100072&17\n",
      "100072&23\n",
      "100082&100734\n",
      "100082&17&23\n",
      "100082&17\n",
      "100082&491\n",
      "100083&100736\n",
      "100108&100735\n",
      "100108&491\n",
      "100121&100123\n",
      "100121&100132\n",
      "100121&100156\n",
      "100121&100164\n",
      "100121&17\n",
      "100121&23\n",
      "100123&100145\n",
      "100128&100132\n",
      "100128&100145\n",
      "100128&100146\n",
      "100128&100147\n",
      "100128&100148\n",
      "100128&100156\n",
      "100128&100740\n",
      "100128&17\n",
      "100128&2\n",
      "100132&100145\n",
      "100132&100146\n",
      "100132&100155\n",
      "100132&100156\n",
      "100132&100164\n",
      "100132&100739\n",
      "100132&17\n",
      "100132&2\n",
      "100133&100137\n",
      "100133&100145\n",
      "100133&100741\n",
      "100137&100138\n",
      "100137&100156\n",
      "100137&100165\n",
      "100138&17\n",
      "100140&100732\n",
      "100145&100146\n",
      "100145&100147\n",
      "100145&100153\n",
      "100145&100155\n",
      "100145&100156\n",
      "100145&100164\n",
      "100145&17\n",
      "100145&2\n",
      "100145&210\n",
      "100146&100147\n",
      "100146&100156\n",
      "100146&100742\n",
      "100146&17\n",
      "100146&2\n",
      "100147&100743\n",
      "100147&101183\n",
      "100148&100153\n",
      "100148&100156\n",
      "100148&100164\n",
      "100148&100744\n",
      "100153&100155\n",
      "100155&100156\n",
      "100156&100164\n",
      "100156&101183\n",
      "100164&100746\n",
      "100164&100975\n",
      "100164&101131\n",
      "100164&17\n",
      "100164&2\n",
      "100165&100745\n",
      "100258&17\n",
      "100258&2\n",
      "100258&491\n",
      "100259&17\n",
      "100259&2\n",
      "100259&491\n",
      "100260&17\n",
      "100260&2\n",
      "100260&491\n",
      "100282&2\n",
      "100292&417\n",
      "100315&100975\n",
      "100315&101046\n",
      "100315&101131\n",
      "100315&101399\n",
      "100315&17\n",
      "100747&2\n",
      "100780&100783\n",
      "100780&2\n",
      "100780&491\n",
      "100783&2\n",
      "100783&491\n",
      "100785&100787\n",
      "100786&100788\n",
      "100928&17\n",
      "100928&2\n",
      "100928&491\n",
      "100929&17\n",
      "100929&2\n",
      "100929&491\n",
      "100930&17\n",
      "100930&2\n",
      "100930&491\n",
      "100931&17\n",
      "100931&2\n",
      "100931&491\n",
      "100932&17\n",
      "100932&2\n",
      "100932&491\n",
      "100933&17\n",
      "100933&2\n",
      "100933&491\n",
      "100934&17\n",
      "100934&2\n",
      "100934&491\n",
      "100935&17\n",
      "100935&2\n",
      "100935&491\n",
      "100936&17\n",
      "100936&2\n",
      "100936&491\n",
      "100937&17\n",
      "100937&2\n",
      "100937&491\n",
      "100938&17\n",
      "100938&2\n",
      "100938&491\n",
      "100939&17\n",
      "100939&2\n",
      "100939&491\n",
      "100975&17\n",
      "100975&2\n",
      "100975&491\n",
      "101131&17\n",
      "101131&2\n",
      "101131&295\n",
      "101131&491\n",
      "101399&17\n",
      "101399&2\n",
      "101399&295\n",
      "101399&491\n",
      "16&17\n",
      "17&2\n",
      "17&210\n",
      "17&23\n",
      "17&31\n",
      "17&34\n",
      "17&415\n",
      "17&417\n",
      "17&418\n",
      "17&491\n",
      "17&523\n",
      "17&598\n",
      "17&86\n",
      "2&23\n",
      "2&31\n",
      "2&34\n",
      "2&415\n",
      "2&417\n",
      "2&418\n",
      "2&491\n",
      "2&523\n",
      "2&529\n",
      "2&530\n",
      "2&598\n",
      "2&86\n",
      "210&491\n",
      "220&755\n",
      "23&491\n",
      "31&491\n",
      "34&415\n",
      "34&491\n",
      "34&523\n",
      "34&86\n",
      "415&491\n",
      "417&491\n",
      "417&649\n",
      "418&491\n",
      "491&523\n",
      "491&598\n",
      "491&86\n",
      "771&925;crossonlyfeatures:220\n",
      "755;densifyallfeatures:true;encodercftype:XOR;hashbeforecaching:true;importance:WeightedByDimension;importanceparameter:101194;nbday:21;normalizebags:true;samplingratio:1\n"
     ]
    },
    {
     "data": {
      "text/plain": [
       "'ResourceWithFile:511;additionalfeatures:101194;baba.initial_seed_on_prod_dataid:7129;baba.learning.spark.driver.memory:24g;baba.learning.spark.executor.heartbeatInterval:60s;baba.learning.spark.scheduler.maxRegisteredResourcesWaitingTime:1800s;baba.learning.spark.scheduler.minRegisteredResourcesRatio:0.2;baba.learning.spark_submit.executor-cores:12;baba.learning.spark_submit.executor-memory:16g;baba.learning.spark_submit.num-executors:40;baba.optimization.epochs:50;baba.optimization.hashbits:26;baba.optimization.lbfgs_stopping_criteria.relative_decrease:true;baba.optimization.sgd_epochs:0;baba.preprocessing.spark.executor.heartbeatInterval:60s;baba.preprocessing.spark_submit.executor-memory:16g;bits:26;continuousfeatures:101194;crossfeatures:1&100072&100139|1&100072&100140|1&100082&100108|1&2|1&23|1&295|100070&2|100070&23|100072&100132|100072&100145|100072&100164|100072&100738|100072&17|100072&23|100082&100734|100082&17&23|100082&17|100082&491|100121&23|100128&2|100132&100145|100132&100146|100132&100155|100132&100156|100132&100164|100132&100739|100132&17|100132&2|100145&2|100145&210|100146&2|100164&2|100258&2|100259&2|100260&2|100282&2|100292&417|100747&2|100780&2|100783&2|100928&2|100929&2|100930&2|100931&2|100932&17|100932&2|100932&491|100933&2|100934&2|100935&2|100936&2|100937&2|100938&2|100939&2|100975&2|101131&2|101131&295|101399&2|101399&295|17&2|17&210|17&23|2&23|2&31|2&34|2&415|2&417|2&418|2&491|2&523|2&529|2&530|2&598|2&86'"
      ]
     },
     "execution_count": 39,
     "metadata": {},
     "output_type": "execute_result"
    }
   ],
   "source": [
    "news = []\n",
    "with open('../text.txt') as f:\n",
    "    splits = f.read().split('|')\n",
    "    for split in splits:\n",
    "        print(split)\n",
    "        if '2&' in split or '&2' in split:\n",
    "            news.append(split)\n",
    "'|'.join(news)"
   ]
  },
  {
   "cell_type": "code",
   "execution_count": 229,
   "metadata": {},
   "outputs": [
    {
     "data": {
      "text/plain": [
       "0.5"
      ]
     },
     "execution_count": 229,
     "metadata": {},
     "output_type": "execute_result"
    }
   ],
   "source": [
    "from sklearn.metrics import roc_auc_score as roc, roc_curve\n",
    "\n",
    "roc([1, 1, 0], [0.5, 0.5, 0.5])"
   ]
  },
  {
   "cell_type": "code",
   "execution_count": 224,
   "metadata": {
    "collapsed": true
   },
   "outputs": [],
   "source": [
    "?roc"
   ]
  }
 ],
 "metadata": {
  "colab": {
   "name": "ICLR Reviews",
   "provenance": [],
   "version": "0.3.2"
  },
  "kernelspec": {
   "display_name": "Python 3",
   "language": "python",
   "name": "python3"
  },
  "language_info": {
   "codemirror_mode": {
    "name": "ipython",
    "version": 3
   },
   "file_extension": ".py",
   "mimetype": "text/x-python",
   "name": "python",
   "nbconvert_exporter": "python",
   "pygments_lexer": "ipython3",
   "version": "3.6.1"
  }
 },
 "nbformat": 4,
 "nbformat_minor": 1
}
